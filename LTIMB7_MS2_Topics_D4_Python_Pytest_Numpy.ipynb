{
  "nbformat": 4,
  "nbformat_minor": 0,
  "metadata": {
    "colab": {
      "provenance": [],
      "include_colab_link": true
    },
    "kernelspec": {
      "name": "python3",
      "display_name": "Python 3"
    },
    "language_info": {
      "name": "python"
    }
  },
  "cells": [
    {
      "cell_type": "markdown",
      "metadata": {
        "id": "view-in-github",
        "colab_type": "text"
      },
      "source": [
        "<a href=\"https://colab.research.google.com/github/VishalC02/LTIMB9/blob/master/LTIMB7_MS2_Topics_D4_Python_Pytest_Numpy.ipynb\" target=\"_parent\"><img src=\"https://colab.research.google.com/assets/colab-badge.svg\" alt=\"Open In Colab\"/></a>"
      ]
    },
    {
      "cell_type": "code",
      "execution_count": null,
      "metadata": {
        "id": "LCbu3ynamnCN"
      },
      "outputs": [],
      "source": [
        "# Pytest Overview in Python:\n",
        "\n",
        "pytest is a powerful and easy-to-use testing framework for writing unit tests, functional tests, and even complex testing suites in Python.\n",
        "It is widely adopted because of its simple syntax, rich plugin architecture, and advanced features like fixtures, parameterization,\n",
        "and assertion introspection.\n",
        "\n",
        "# Why Use Pytest?\n",
        "\n",
        "    Simple syntax: Write test functions without needing to create classes.\n",
        "    Auto-discovery: Automatically detects test files and test functions.\n",
        "    Advanced assertion introspection: Better output when tests fail.\n",
        "    Fixtures: Reusable components for setup/teardown logic.\n",
        "    Plugins: Extensible via plugins (pytest-django, pytest-cov, etc.).\n",
        "    Parameterized tests: Run the same test with multiple inputs easily."
      ]
    },
    {
      "cell_type": "code",
      "source": [
        "# Naming Conventions:\n",
        "\n",
        "Files must start with test_ or end with _test.py.\n",
        "Functions must start with test_.\n",
        "\n",
        "# Assertions:\n",
        "\n",
        "You can write assertions using Python's native assert statement:\n",
        "\n",
        "def test_truth():\n",
        "    assert True\n",
        "    assert 5 > 2\n",
        "\n",
        "Pytest gives detailed error messages when assertions fail."
      ],
      "metadata": {
        "id": "yZaMkazBRtyg"
      },
      "execution_count": null,
      "outputs": []
    },
    {
      "cell_type": "code",
      "source": [
        "# Basic Example\n",
        "\n",
        "# test_sample.py\n",
        "\n",
        "def add(a, b):\n",
        "    return a + b\n",
        "\n",
        "def test_add():\n",
        "    assert add(2, 3) == 5\n",
        "    assert add(-1, 1) == 0\n",
        "\n",
        "# Run this test using the command:\n",
        "pytest test_sample.py"
      ],
      "metadata": {
        "id": "RqThj1Q4RyJ4"
      },
      "execution_count": null,
      "outputs": []
    },
    {
      "cell_type": "code",
      "source": [
        "Common Assertion Methods Provided by Pytest: Pytest provides a number of built-in assertions\n",
        "    that make it easier to test various conditions. Some of the most common assertions include:\n",
        "\n",
        "assert a == b: Checks if a is equal to b.\n",
        "assert a != b: Checks if a is not equal to b.\n",
        "assert a is b: Checks if a is the same object as b.\n",
        "assert a is not b: Checks if a is not the same object as b.\n",
        "assert a in b: Checks if a is a member of b.\n",
        "assert a not in b: Checks if a is not a member of b.\n",
        "assert a > b: Checks if a is greater than b.\n",
        "assert a < b: Checks if a is less than b.\n",
        "assert isinstance(a, type): Checks if a is an instance of type."
      ],
      "metadata": {
        "id": "hs1_MsPBRyO_"
      },
      "execution_count": null,
      "outputs": []
    },
    {
      "cell_type": "code",
      "source": [
        "# Summary\n",
        "\n",
        "**Testing is a key practice in software development that helps identify bugs early, ensures reliability, and improves code quality.**\n",
        "\n",
        "Pytest is an easy-to-use, feature-rich testing framework in Python, enabling efficient test writing, running, and reporting.\n",
        "With Pytest, tests are organized in separate files with a specific naming convention (e.g., test_*.py), and assertions are used to verify code behavior.\n",
        "\n",
        "Automated testing with Pytest provides speed, reliability, and consistency to ensure the software works as intended."
      ],
      "metadata": {
        "id": "3GT_gMsvRySh"
      },
      "execution_count": null,
      "outputs": []
    },
    {
      "cell_type": "code",
      "source": [
        "# Numpy - An Introduction:\n",
        "\n",
        "NumPy (Numerical Python) is a fundamental library for numerical computing in Python.\n",
        "\n",
        "It provides support for working with large multi-dimensional arrays and matrices, along with a collection of mathematical functions to operate on these arrays.\n",
        "\n",
        "It is fast, memory-efficient, and widely used in data science, machine learning, scientific computing, and more."
      ],
      "metadata": {
        "id": "waEe-fIeRyVu"
      },
      "execution_count": null,
      "outputs": []
    },
    {
      "cell_type": "code",
      "source": [
        "# Benefits of Using NumPy Over Standard Python Lists:\n",
        "\n",
        "Efficiency: NumPy arrays are more efficient for numerical operations than Python lists.\n",
        "They store elements of the same type, allowing them to take less memory and enable faster operations.\n",
        "Vectorization: NumPy allows element-wise operations without the need for explicit loops, leading to cleaner and faster code\n",
        "Broad Functionality: NumPy provides a wide array of mathematical functions for linear algebra, statistical operations, Fourier transforms, and more\n",
        "Better Performance: NumPy is implemented in C, which makes it much faster for numerical computations compared to Python lists that are less optimized."
      ],
      "metadata": {
        "id": "I8ClFolFSEUP"
      },
      "execution_count": null,
      "outputs": []
    },
    {
      "cell_type": "code",
      "source": [
        "# Why Use NumPy?\n",
        "\n",
        "| Feature       | Benefit                                                |\n",
        "| ------------- | ------------------------------------------------------ |\n",
        "| ndarray       | Efficient multi-dimensional arrays                     |\n",
        "| Broadcasting  | Perform operations on arrays of different shapes       |\n",
        "| Vectorization | Faster code, no need for explicit loops                |\n",
        "| Integration   | Works well with Pandas, Matplotlib, Scikit-learn, etc. |"
      ],
      "metadata": {
        "id": "totRuOuhSEcy"
      },
      "execution_count": null,
      "outputs": []
    },
    {
      "cell_type": "code",
      "source": [
        "# NumPy Arrays:\n",
        "\n",
        "**NumPy arrays are the core data structure in NumPy and they are used to store collections of data**\n",
        "**Arrays in NumPy are much more powerful than Python lists and are the foundation for most numerical operations in Python.**\n",
        "\n",
        "# Advantages of NumPy Arrays Over Lists:\n",
        "\n",
        "**Fixed Type: NumPy arrays are homogeneous, meaning all elements must be of the same type, which increases efficiency.**\n",
        "\n",
        "**Multidimensional: NumPy arrays can be multidimensional (e.g., 2D arrays), while Python lists are limited to one-dimensional structures.**\n",
        "\n",
        "**Performance: NumPy arrays offer better performance for numerical operations, thanks to their implementation in C.**"
      ],
      "metadata": {
        "id": "8k1yJqOYSOGX"
      },
      "execution_count": null,
      "outputs": []
    },
    {
      "cell_type": "code",
      "source": [
        "| Feature   | Python List                                | NumPy Array                                  |\n",
        "| --------- | ------------------------------------------ | -------------------------------------------- |\n",
        "| Execution | Loop over each element                     | Vectorized C-level execution                 |\n",
        "| Memory    | More memory overhead (stores full objects) | Compact memory layout                        |\n",
        "| Speed     | Slower (interpreted loop)                  | Much faster (uses compiled C under the hood) |\n",
        "| Operation | Element-wise manually                      | Element-wise automatic (vectorized)          |\n",
        "| Result    | Not stored                                 | Can directly return a new array              |"
      ],
      "metadata": {
        "id": "zD-DqlFjSOLa"
      },
      "execution_count": null,
      "outputs": []
    },
    {
      "cell_type": "code",
      "source": [
        "#  Why NumPy is Faster ?\n",
        "\n",
        "    Written in C: NumPy operations are executed in compiled C code, not Python.\n",
        "\n",
        "    Vectorized Operations: Entire arrays are processed without Python for loops.\n",
        "\n",
        "    Contiguous Memory: NumPy arrays are more memory-efficient than Python lists.\n",
        "\n",
        "    SIMD Optimization: NumPy can take advantage of CPU-level parallelism. (Single Instruction, Multiple Data.)\n",
        "    It is a parallel processing technique used by CPUs (and some GPUs), where one instruction operates on multiple data points at once."
      ],
      "metadata": {
        "id": "kAg4RCAYSOOs"
      },
      "execution_count": null,
      "outputs": []
    },
    {
      "cell_type": "code",
      "source": [
        "# Conclusion: Why NumPy is Best?\n",
        "\n",
        "If you're doing large-scale numerical computations, NumPy is vastly better.\n",
        "Native Python lists are good for general-purpose use, but not optimized for numerical performance.\n",
        "\n",
        "Always use NumPy for:\n",
        "    Array math\n",
        "    Data preprocessing\n",
        "    Scientific computing\n",
        "    Machine learning input pipelines"
      ],
      "metadata": {
        "id": "l71ertC6SOTf"
      },
      "execution_count": null,
      "outputs": []
    },
    {
      "cell_type": "code",
      "source": [
        "# Example - 1: Creating NumPy Arrays:\n",
        "\n",
        "import numpy as np\n",
        "\n",
        "arr_1d = np.array([1, 2, 3, 4, 5])\n",
        "print(\"1D Array:\")\n",
        "print(arr_1d)\n",
        "\n",
        "arr_2d = np.array([[1, 2, 3], [4, 5, 6]])\n",
        "print(\"\\n2D Array:\")\n",
        "print(arr_2d)\n",
        "\n",
        "arr_3d = np.array([[[1, 2], [3, 4]], [[5, 6], [7, 8]]])\n",
        "print(\"\\n3D Array:\")\n",
        "print(arr_3d)\n",
        "\n",
        "print(\"\\n1D Array Attributes:\")\n",
        "print(\"Shape:\", arr_1d.shape)  # Shape of the array (number of elements along each axis)\n",
        "print(\"Size:\", arr_1d.size)    # Total number of elements in the array\n",
        "print(\"Data Type:\", arr_1d.dtype)  # Data type of the elements in the array\n",
        "\n",
        "\n",
        "print(\"\\n2D Array Attributes:\")\n",
        "print(\"Shape:\", arr_2d.shape)  # Shape: (rows, columns)\n",
        "print(\"Size:\", arr_2d.size)    # Total number of elements\n",
        "print(\"Data Type:\", arr_2d.dtype)  # Data type of elements\n",
        "\n",
        "\n",
        "print(\"\\n3D Array Attributes:\")\n",
        "print(\"Shape:\", arr_3d.shape)  # Shape: (depth, rows, columns)\n",
        "print(\"Size:\", arr_3d.size)    # Total number of elements\n",
        "print(\"Data Type:\", arr_3d.dtype)  # Data type of elements"
      ],
      "metadata": {
        "id": "87kfWwrcSXf7"
      },
      "execution_count": null,
      "outputs": []
    },
    {
      "cell_type": "code",
      "source": [
        "# Other NumPy Functions:\n",
        "\n",
        "Besides np.array(),\n",
        "    --> NumPy provides several other functions for creating arrays with specific properties.\n",
        "\n",
        "1. np.asarray(): Converts any sequence-like object (e.g., lists, tuples) to a NumPy array.\n",
        "2. np.ones(): Creates an array filled with ones of a specified shape.\n",
        "3. np.zeros(): Creates an array filled with zeros of a specified shape.\n",
        "4. np.empty(): Creates an uninitialized array of a specified shape. The values will be random, as they are not initialized.\n",
        "\n",
        "These functions provide an easy way to create arrays for specific use cases without having to manually specify each element."
      ],
      "metadata": {
        "id": "n2rkGnCtSXjo"
      },
      "execution_count": null,
      "outputs": []
    },
    {
      "cell_type": "code",
      "source": [
        "# np.array() - Creates an array from a list or other array-like objects.¶\n",
        "\n",
        "\n",
        "import numpy as np\n",
        "\n",
        "arr = np.array([1, 2, 3, 4])\n",
        "print(type(arr))\n",
        "print(\"np.array:\", arr)\n",
        "print(\"Data Type:\", arr.dtype)\n",
        "\n",
        "# 2. np.asarray() - Similar to np.array(), but it does not copy the input if it is already an array (i.e., it returns a view).\n",
        "\n",
        "arr_list = [1, 2, 3]\n",
        "arr = np.asarray(arr_list)\n",
        "print(\"np.asarray:\", arr)\n",
        "\n",
        "# 3. np.ones() - Creates an array of ones with a specified shape.\n",
        "\n",
        "ones_arr = np.ones((2, 3))  # 2x3 array of ones -- 2 => rows and 3 => columns\n",
        "print(\"np.ones():\", ones_arr)\n",
        "\n",
        "# 4. np.zeros() - Creates an array of zeros with a specified shape.\n",
        "\n",
        "zeros_arr = np.zeros((3, 2))  # 3 x 2 array of zeros -- 3 => rows and 2 => columns\n",
        "print(\"np.zeros():\", zeros_arr)\n",
        "\n",
        "# 5. np.empty() - Creates an uninitialized array. The values in the array are random and depend on the memory content at the time of creation.\n",
        "\n",
        "empty_arr = np.empty((2, 2))  # 2 x 2 uninitialized array\n",
        "print(\"np.empty():\", empty_arr)\n",
        "\n",
        "# np.arange() - Creates an array with a range of values, similar to Python’s range(). You can specify the start, stop, and step.\n",
        "\n",
        "range_arr = np.arange(0, 10, 2)  # array from 0 to 10 with step size of 2\n",
        "print(\"np.arange():\", range_arr)\n",
        "\n",
        "# np.linspace() Creates an array with evenly spaced numbers over a specified range. You specify the start and stop, and the number of points (not the step size).\n",
        "\n",
        "linspace_arr = np.linspace(0,1,5)    # 5 evenly spaced numbers from 0 to 1\n",
        "print(\"np.linspace():\", linspace_arr)\n",
        "\n",
        "# np.eye() - Creates an identity matrix (a square matrix with ones on the diagonal and zeros elsewhere).\n",
        "\n",
        "identity_matrix = np.eye(3)  # 3x3 identity matrix\n",
        "print(\"np.eye():\", identity_matrix)"
      ],
      "metadata": {
        "id": "tRad5lS2SXmV"
      },
      "execution_count": null,
      "outputs": []
    },
    {
      "cell_type": "code",
      "source": [
        "# Example - 1: Putting it All Together in One Code Example:\n",
        "\n",
        "import numpy as np\n",
        "\n",
        "# 1. np.array()\n",
        "arr = np.array([1, 2, 3, 4])\n",
        "print(\"np.array():\\n\", arr)\n",
        "\n",
        "# 2. np.asarray()\n",
        "arr_list = [1, 2, 3]\n",
        "arr_from_list = np.asarray(arr_list)\n",
        "print(\"np.asarray():\\n\", arr_from_list)\n",
        "\n",
        "# 3. np.ones()\n",
        "ones_arr = np.ones((2, 3))\n",
        "print(\"np.ones():\\n\", ones_arr)\n",
        "\n",
        "# 4. np.zeros()\n",
        "zeros_arr = np.zeros((3, 2))\n",
        "print(\"np.zeros():\\n\", zeros_arr)\n",
        "\n",
        "# 5. np.empty()\n",
        "empty_arr = np.empty((2, 2))\n",
        "print(\"np.empty():\\n\", empty_arr)\n",
        "\n",
        "# 6. np.arange()\n",
        "range_arr = np.arange(0, 10, 2)\n",
        "print(\"np.arange():\\n\", range_arr)\n",
        "\n",
        "# 7. np.linspace()\n",
        "linspace_arr = np.linspace(0, 1, 5)\n",
        "print(\"np.linspace():\\n\", linspace_arr)\n",
        "\n",
        "# 8. np.eye()\n",
        "identity_matrix = np.eye(3)\n",
        "print(\"np.eye():\\n\", identity_matrix)"
      ],
      "metadata": {
        "id": "zFiFfeKHTCA_"
      },
      "execution_count": null,
      "outputs": []
    },
    {
      "cell_type": "code",
      "source": [
        "# Example - 2: Putting it All Together Creating Array and Accessing their attributes:\n",
        "\n",
        "import numpy as np\n",
        "\n",
        "# 1D array\n",
        "arr = np.array([1, 2, 3])\n",
        "print(\"1D array:\", arr)\n",
        "\n",
        "# 2D array\n",
        "arr_2d = np.array([[1, 2], [3, 4]])\n",
        "print(\"2D array:\\n\", arr_2d)\n",
        "\n",
        "# Array attributes\n",
        "print(\"Shape:\", arr_2d.shape)\n",
        "print(\"Size:\", arr_2d.size)\n",
        "print(\"Data type:\", arr_2d.dtype)\n",
        "\n",
        "# Using other functions\n",
        "arr_from_list = np.asarray([5, 6, 7])\n",
        "print(\"Array from list:\", arr_from_list)\n",
        "\n",
        "ones_arr = np.ones((3, 3))\n",
        "print(\"3x3 ones array:\\n\", ones_arr)\n",
        "\n",
        "zeros_arr = np.zeros((2, 2))\n",
        "print(\"2x2 zeros array:\\n\", zeros_arr)\n",
        "\n",
        "empty_arr = np.empty((2, 2))\n",
        "print(\"2x2 empty array (uninitialized):\\n\", empty_arr)"
      ],
      "metadata": {
        "id": "h_mLeSFgTJTo"
      },
      "execution_count": null,
      "outputs": []
    },
    {
      "cell_type": "code",
      "source": [
        "# Explaination of Functions:\n",
        "\n",
        "# np.array(): Converts a list or array-like object into a NumPy array.\n",
        "# np.asarray(): Similar to np.array() but returns a view if the input is already an array (no copy).\n",
        "# np.ones(): Creates an array filled with ones of a given shape.\n",
        "# np.zeros(): Creates an array filled with zeros of a given shape.\n",
        "# np.empty(): Creates an array without initializing its values (it may contain arbitrary values).\n",
        "# np.arange(): Generates an array with values from a given start to stop, with a specified step size.\n",
        "# np.linspace(): Generates an array with a specified number of evenly spaced values between a given start and stop.\n",
        "# np.eye(): Creates an identity matrix of size n x n, where the diagonal elements are 1, and the rest are 0.\n",
        "\n",
        "These functions cover many common array creation patterns in NumPy and are essential when working with numerical data."
      ],
      "metadata": {
        "id": "tSPkVmXPTJWX"
      },
      "execution_count": null,
      "outputs": []
    },
    {
      "cell_type": "code",
      "source": [
        "# Day-2_Part-2: Deep Dive into Numpy Module\n",
        "\n",
        "Let's break this down into the following sections:\n",
        "--> Basic Array Operations\n",
        "--> Broadcasting\n",
        "--> Element-wise Operations and Their Efficiency"
      ],
      "metadata": {
        "id": "rnYFhMUfTJZL"
      },
      "execution_count": null,
      "outputs": []
    },
    {
      "cell_type": "code",
      "source": [
        "# Compute the power of nonzero, unique elements in a NumPy array:\n",
        "\n",
        "import numpy as np\n",
        "\n",
        "# Creating two arrays\n",
        "arr1 = np.array([1, 2, 3, 4])\n",
        "arr2 = np.array([5, 6, 7, 8])\n",
        "\n",
        "# Element-wise addition\n",
        "sum_arr = arr1 + arr2\n",
        "print(\"Addition:\", sum_arr)\n",
        "\n",
        "# Element-wise subtraction\n",
        "diff_arr = arr1 - arr2\n",
        "print(\"Subtraction:\", diff_arr)\n",
        "\n",
        "# Element-wise multiplication\n",
        "prod_arr = arr1 * arr2\n",
        "print(\"Multiplication:\", prod_arr)\n",
        "\n",
        "# Element-wise division\n",
        "div_arr = arr1 / arr2\n",
        "print(\"Division:\", div_arr)\n",
        "\n",
        "# Element-wise power (arr1 to the power of arr2)\n",
        "pow_arr = arr1 ** arr2\n",
        "print(\"Power:\", pow_arr)"
      ],
      "metadata": {
        "id": "fr__8g6DTJcY"
      },
      "execution_count": null,
      "outputs": []
    },
    {
      "cell_type": "code",
      "source": [
        "import numpy as np\n",
        "\n",
        "# Create a NumPy array\n",
        "arr = np.array([0, 2, 3, 2, 4, 0, 3, 5])\n",
        "\n",
        "# Get unique nonzero elements\n",
        "unique_nonzero = np.unique(arr[arr != 0])\n",
        "\n",
        "# Apply power function (example: square each element)\n",
        "powered_array = np.power(unique_nonzero, 2)\n",
        "\n",
        "print(\"Unique Nonzero Elements:\", unique_nonzero)\n",
        "print(\"Powered Array:\", powered_array)"
      ],
      "metadata": {
        "id": "4BZ1shLvYj5d"
      },
      "execution_count": null,
      "outputs": []
    },
    {
      "cell_type": "code",
      "source": [
        "import numpy as np\n",
        "\n",
        "# Create a NumPy array\n",
        "arr = np.array([0, 2, 3, 0, 4, 0, 5])\n",
        "\n",
        "# Get indices of nonzero elements\n",
        "nonzero_indices = np.nonzero(arr)\n",
        "\n",
        "# Extract nonzero elements using these indices\n",
        "nonzero_elements = arr[nonzero_indices]\n",
        "\n",
        "print(\"Indices of nonzero elements:\", nonzero_indices)\n",
        "print(\"Nonzero elements:\", nonzero_elements)\n",
        "\n",
        "\n",
        "\n",
        "import numpy as np\n",
        "\n",
        "# Create a 1D NumPy array\n",
        "arr = np.array([0, 7, 0, 2, 3, 0, 4, 0, 5])\n",
        "\n",
        "# Get indices of nonzero elements\n",
        "nonzero_indices = np.nonzero(arr)\n",
        "\n",
        "# Extract nonzero elements\n",
        "nonzero_elements = arr[nonzero_indices]\n",
        "\n",
        "print(\"Original Array:\", arr)\n",
        "print(\"Indices of Nonzero Elements:\", nonzero_indices)\n",
        "print(\"Nonzero Elements:\", nonzero_elements)"
      ],
      "metadata": {
        "id": "bo8N-7VKYkBi"
      },
      "execution_count": null,
      "outputs": []
    },
    {
      "cell_type": "code",
      "source": [
        "# Array Operations and Broadcasting in NumPy\n",
        "\n",
        "\n",
        "import numpy as np\n",
        "\n",
        "# Creating two arrays\n",
        "arr1 = np.array([1, 2, 3, 4])\n",
        "arr2 = np.array([5, 6, 7, 8])\n",
        "\n",
        "# Element-wise addition\n",
        "sum_arr = arr1 + arr2\n",
        "print(\"Addition:\", sum_arr)\n",
        "\n",
        "# Element-wise subtraction\n",
        "diff_arr = arr1 - arr2\n",
        "print(\"Subtraction:\", diff_arr)\n",
        "\n",
        "# Element-wise multiplication\n",
        "prod_arr = arr1 * arr2\n",
        "print(\"Multiplication:\", prod_arr)\n",
        "\n",
        "# Element-wise division\n",
        "div_arr = arr1 / arr2\n",
        "print(\"Division:\", div_arr)\n",
        "\n",
        "# Element-wise power (arr1 to the power of arr2)\n",
        "pow_arr = arr1 ** arr2\n",
        "print(\"Power:\", pow_arr)\n",
        "\n",
        "print(np.power(arr1,arr2))\n",
        "\n",
        "print(np.unique(arr1))\n",
        "\n",
        "print(np.unique(arr2))"
      ],
      "metadata": {
        "id": "fd5mmCzEYkG7"
      },
      "execution_count": null,
      "outputs": []
    },
    {
      "cell_type": "code",
      "source": [
        "# Broadcasting:\n",
        "\n",
        "Broadcasting is a powerful feature in NumPy that allows operations on arrays of different shapes.\n",
        "In cases where the shapes are not the same, NumPy will attempt to \"broadcast\" the smaller array across the larger one so that they have compatible shapes.\n",
        "\n",
        "import numpy as np\n",
        "\n",
        "# Creating a 2D array and a 1D array\n",
        "arr_2d = np.array([[1, 2, 3], [4, 5, 6]])\n",
        "arr_1d = np.array([1, 0, -1])\n",
        "\n",
        "# Adding the 1D array to the 2D array\n",
        "broadcasted_sum = arr_2d + arr_1d\n",
        "print(\"Broadcasting Addition:\\n\", broadcasted_sum)\n",
        "\n",
        "\n",
        "# Creating two large arrays\n",
        "\n",
        "arr1 = np.random.rand(1000000)  # Array of 1 million random values\n",
        "arr2 = np.random.rand(1000000)\n",
        "\n",
        "# Element-wise addition (using broadcasting and vectorization)\n",
        "result = arr1 + arr2\n",
        "\n",
        "print(\"Element-wise addition of large arrays complete.\")\n",
        "print(result)\n",
        "\n",
        "\n",
        "\n",
        "# Other Operations: Matrix Multiplication:\n",
        "\n",
        "You can use the @ operator or np.dot() to perform matrix multiplication (dot product) or inner products.\n",
        "\n",
        "# 2D array multiplication (dot product)\n",
        "arr_2d_1 = np.array([[1, 2], [3, 4]])\n",
        "arr_2d_2 = np.array([[5, 6], [7, 8]])\n",
        "\n",
        "# Matrix multiplication\n",
        "matrix_product = np.dot(arr_2d_1, arr_2d_2)\n",
        "print(\"Matrix Multiplication:\\n\", matrix_product)\n"
      ],
      "metadata": {
        "id": "8_0MZDq3YkKU"
      },
      "execution_count": null,
      "outputs": []
    },
    {
      "cell_type": "code",
      "source": [
        "# Indexing and Slicing in NumPy Arrays\n",
        "Indexing:\n",
        "\n",
        "NumPy arrays are indexed similar to Python lists, but with support for multidimensional arrays. You can use integers or slices to index elements.\n",
        "\n",
        "Example: Indexing a 1D Array\n",
        "\n",
        "import numpy as np\n",
        "\n",
        "# Create a 1D array\n",
        "arr = np.array([10, 20, 30, 40, 50])\n",
        "\n",
        "# Accessing elements by index\n",
        "print(\"First Element:\", arr[0])  # First element\n",
        "print(\"Last Element:\", arr[-1])  # Last element\n",
        "\n",
        "\n",
        "# Create a 2D array\n",
        "arr_2d = np.array([[1, 2, 3],\n",
        "                   [4, 5, 6],\n",
        "                   [7, 8, 9]])\n",
        "\n",
        "# Accessing elements by row and column indices\n",
        "print(\"Element at (0, 0):\", arr_2d[0, 0])  # First row, first column\n",
        "print(\"Element at (2, 2):\", arr_2d[2, 2])  # Third row, third column\n",
        "\n",
        "\n",
        "# Slicing:\n",
        "Slicing allows you to access a subarray or range of elements. The syntax for slicing is [start:stop:step].\n",
        "# Example: Slicing a 1D Array\n",
        "\n",
        "# Create a 1D array\n",
        "arr = np.array([10, 20, 30, 40, 50])\n",
        "\n",
        "# Slicing a 1D array\n",
        "arr_slice = arr[1:4]  # Elements from index 1 to 3 (4 is not included)\n",
        "print(\"Sliced Array:\", arr_slice)\n",
        "\n",
        "\n",
        "# Create a 2D array\n",
        "arr_2d = np.array([[1, 2, 3],\n",
        "                   [4, 5, 6],\n",
        "                   [7, 8, 9]])\n",
        "\n",
        "# Slicing a 2D array\n",
        "sub_arr = arr_2d[1:, 1:]  # Subarray from rows 1 onward, columns 1 onward\n",
        "print(\"Sliced 2D Array:\\n\", sub_arr)\n",
        "\n",
        "# Rows starting from index 1 (i.e., the second row and beyond).\n",
        "# Columns starting from index 1 (i.e., the second column and beyond).\n",
        "\n",
        "# Row 1 (from the original array) is [4, 5, 6], and after slicing columns from index 1 onward, we get [5, 6].\n",
        "# Row 2 (from the original array) is [7, 8, 9], and after slicing columns from index 1 onward, we get [8, 9]"
      ],
      "metadata": {
        "id": "Lp4O9rgeYkN5"
      },
      "execution_count": null,
      "outputs": []
    },
    {
      "cell_type": "code",
      "source": [
        "# Boolean Indexing:\n",
        "Boolean indexing allows you to select elements based on conditions. You create a boolean array (True/False values) and use it to index the original array.\n",
        "\n",
        "Example: Boolean Indexing\n",
        "\n",
        "# Create a 1D array\n",
        "arr = np.array([10, 20, 30, 40, 50])\n",
        "\n",
        "# Boolean condition: Select elements greater than 20\n",
        "condition = arr > 20\n",
        "print(\"Condition (arr > 20):\", condition)\n",
        "\n",
        "# Apply the condition to select elements\n",
        "filtered_arr = arr[condition]\n",
        "print(\"Filtered Array:\", filtered_arr)\n",
        "\n",
        "\n",
        "# Create a 2D array\n",
        "arr_2d = np.array([[1, 2, 3],\n",
        "                   [4, 5, 6],\n",
        "                   [7, 8, 9]])\n",
        "\n",
        "# Boolean condition: Select elements greater than 5\n",
        "filtered_2d = arr_2d[arr_2d > 5]\n",
        "print(\"Filtered 2D Array:\", filtered_2d)\n",
        "\n",
        "\n",
        "# Fancy Indexing:\n",
        "Fancy indexing allows you to index an array using other arrays or lists of indices. This allows you to select multiple non-contiguous elements at once.\n",
        "\n",
        "# Example: Fancy Indexing\n",
        "\n",
        "# Create a 1D array\n",
        "arr = np.array([10, 20, 30, 40, 50])\n",
        "\n",
        "# Select multiple elements using a list of indices\n",
        "fancy_arr = arr[[0, 2, 4]]\n",
        "print(\"Fancy Indexed Array:\", fancy_arr)\n",
        "\n",
        "import numpy as np\n",
        "\n",
        "# Create a 2D array\n",
        "arr_2d = np.array([[1, 2, 3],\n",
        "                   [4, 5, 6],\n",
        "                   [7, 8, 9]])\n",
        "\n",
        "# Select specific rows and columns using fancy indexing\n",
        "fancy_2d = arr_2d[[0, 2], [1, 2]]  # Select (0, 1) and (2, 2)  # arr_2d[[0, 2], [1, 2]] selects only paired elements (0,1) and (2,2).\n",
        "print(\"Fancy Indexed 2D Array:\", fancy_2d)\n",
        "\n",
        "\n",
        "# Selecting rows and specific columns (without pairing elements):\n",
        "# Create a 2D array\n",
        "arr_2d = np.array([[1, 2, 3],\n",
        "                   [4, 5, 6],\n",
        "                   [7, 8, 9]])\n",
        "\n",
        "arr_2d[np.ix_([0, 2], [1, 2])]  # np.ix_() is useful when you need to select a grid of values, not just a few paired elements."
      ],
      "metadata": {
        "id": "Wqnwe7zCYkRZ"
      },
      "execution_count": null,
      "outputs": []
    },
    {
      "cell_type": "code",
      "source": [
        "# Creating a Copy of ndarray:\n",
        "In NumPy, when you slice an array, you are creating a view, not a copy.\n",
        "This means that changes made to the view will affect the original array. If you want a separate copy, you can use the copy() method.\n",
        "\n",
        "# Example: Creating a Copy\n",
        "\n",
        "# Create a 1D array\n",
        "arr = np.array([10, 20, 30, 40, 50])\n",
        "\n",
        "# Create a view by slicing\n",
        "view_arr = arr[1:4]\n",
        "print(\"View of Array:\", view_arr)\n",
        "\n",
        "# Modify the view\n",
        "view_arr[0] = 100\n",
        "print(\"Modified View:\", view_arr)\n",
        "print(\"Original Array after modifying view:\", arr)\n",
        "\n",
        "# Create a copy\n",
        "copy_arr = arr.copy()\n",
        "print(\"Copy of Array:\", copy_arr)\n",
        "\n",
        "# Modify the copy\n",
        "copy_arr[0] = 200\n",
        "print(\"Modified Copy:\", copy_arr)\n",
        "print(\"Original Array after modifying copy:\", arr)"
      ],
      "metadata": {
        "id": "oBErRNvpYkU7"
      },
      "execution_count": null,
      "outputs": []
    },
    {
      "cell_type": "code",
      "source": [
        "# NumPy provides a variety of functions for manipulating arrays,  which are essential for preparing, modifying, and splitting datasets.\n",
        "\n",
        "  Reshaping and Flattening Arrays\n",
        "  Concatenating Arrays\n",
        "  Stacking and Splitting Arrays\n",
        "  Adding and Removing Elements"
      ],
      "metadata": {
        "id": "jBgcm5KyYkYP"
      },
      "execution_count": null,
      "outputs": []
    },
    {
      "cell_type": "code",
      "source": [
        "# Reshaping and Flattening Arrays\n",
        "Reshaping Arrays: The reshape() method allows you to change the shape of an existing array without modifying its data. The total number of elements in the reshaped array must match the total number of elements in the original array.\n",
        "\n",
        "# Example: Reshaping an Array:\n",
        "import numpy as np\n",
        "\n",
        "# Create a 1D array\n",
        "arr = np.array([1, 2, 3, 4, 5, 6, 7, 8, 9,10])\n",
        "\n",
        "# Reshape to 3x3 matrix\n",
        "reshaped_arr = arr.reshape(2,5)\n",
        "print(\"Reshaped Array:\\n\", reshaped_arr)  # Should be in Multiples\n",
        "\n",
        "\n",
        "import numpy as np\n",
        "\n",
        "# Create a 1D array\n",
        "arr = np.array([1, 2, 3, 4, 5, 6, 7, 8, 9])\n",
        "\n",
        "# Reshape to 3x3 matrix\n",
        "reshaped_arr = arr.reshape(3,3)\n",
        "print(\"Reshaped Array:\\n\", reshaped_arr)  # Should be in Multiples\n"
      ],
      "metadata": {
        "id": "WyGXpIzPYkbx"
      },
      "execution_count": null,
      "outputs": []
    },
    {
      "cell_type": "code",
      "source": [
        "# Flattening Arrays:\n",
        "Flattening an array means converting it into a 1D array. The flatten() method returns a new 1D array, while ravel() does the same but returns a flattened view of the array (if possible).\n",
        "\n",
        "# Example: Flattening an Array\n",
        "\n",
        "# Flatten the reshaped array\n",
        "flattened_arr = reshaped_arr.flatten()\n",
        "print(\"Flattened Array:\", flattened_arr)\n",
        "\n",
        "# Using ravel to get a flattened view\n",
        "raveled_arr = reshaped_arr.ravel()\n",
        "print(\"Raveled Array:\", raveled_arr)\n",
        "\n",
        "\n"
      ],
      "metadata": {
        "id": "hWIFEG3IYkfY"
      },
      "execution_count": null,
      "outputs": []
    },
    {
      "cell_type": "code",
      "source": [
        "# Concatenating Arrays\n",
        "Concatenating arrays means joining two or more arrays along an existing axis (row-wise or column-wise). The np.concatenate() function is used for this purpose. You can specify the axis along which the arrays should be concatenated.\n",
        "\n",
        "Example: Concatenating Arrays\n",
        "\n",
        "arr1 = np.array([1, 2, 3])\n",
        "arr2 = np.array([4, 5, 6])\n",
        "\n",
        "# Concatenate along the first axis (axis=0)\n",
        "concatenated_arr = np.concatenate((arr1, arr2))\n",
        "print(\"Concatenated Array:\", concatenated_arr)\n",
        "\n",
        "\n",
        "arr_2d_1 = np.array([[1, 2],\n",
        "                     [3, 4]])\n",
        "arr_2d_2 = np.array([[5, 6],\n",
        "                     [7, 8]])\n",
        "\n",
        "# Concatenate along axis 0 (row-wise)\n",
        "concat_rows = np.concatenate((arr_2d_1, arr_2d_2), axis=0)\n",
        "print(\"Row-wise Concatenation:\\n\", concat_rows)\n",
        "\n",
        "# Concatenate along axis 1 (column-wise)\n",
        "concat_cols = np.concatenate((arr_2d_1, arr_2d_2), axis=1)\n",
        "print(\"Column-wise Concatenation:\\n\", concat_cols)"
      ],
      "metadata": {
        "id": "787kfLCIYkjI"
      },
      "execution_count": null,
      "outputs": []
    },
    {
      "cell_type": "code",
      "source": [
        "# Stacking and Splitting Arrays\n",
        "Stacking Arrays: Stacking arrays refers to combining multiple arrays along a new axis. You can use np.vstack() for vertical stacking (row-wise), np.hstack() for horizontal stacking (column-wise), or np.dstack() for stacking along the third axis (depth-wise).\n",
        "\n",
        "# Example: Stacking Arrays\n",
        "\n",
        "\n",
        "arr_2d_1 = np.array([[1, 2],\n",
        "                     [3, 4]])\n",
        "arr_2d_2 = np.array([[5, 6],\n",
        "                     [7, 8]])\n",
        "\n",
        "# Vertical stacking (row-wise)\n",
        "vstacked_arr = np.vstack((arr_2d_1, arr_2d_2))\n",
        "print(\"Vertical Stacking:\\n\", vstacked_arr)\n",
        "\n",
        "# Horizontal stacking (column-wise)\n",
        "hstacked_arr = np.hstack((arr_2d_1, arr_2d_2))\n",
        "print(\"Horizontal Stacking:\\n\", hstacked_arr)\n",
        "\n",
        "# Depth stacking (along the third axis)\n",
        "dstacked_arr = np.dstack((arr_2d_1, arr_2d_2))\n",
        "print(\"Depth Stacking:\\n\", dstacked_arr)"
      ],
      "metadata": {
        "id": "2sFtrKMcYknn"
      },
      "execution_count": null,
      "outputs": []
    },
    {
      "cell_type": "code",
      "source": [
        "# Splitting Arrays:\n",
        "You can split arrays into multiple sub-arrays using functions like np.split(), np.hsplit(), and np.vsplit(), depending on the axis along which you want to split.\n",
        "\n",
        "#Example: Splitting Arrays:\n",
        "\n",
        "import numpy as np\n",
        "arr = np.array([1, 2,3, 4, 5, 6, 7, 8, 9])\n",
        "\n",
        "arr_2d_1 = np.array([[1, 2,7],\n",
        "                     [3, 4,8],[5,6,9]])\n",
        "\n",
        "# Split the array into 3 equal parts\n",
        "split_arr = np.split(arr, 3)\n",
        "print(\"Split Array:\", split_arr)\n",
        "\n",
        "# Vertical splitting (along rows)\n",
        "vsplit_arr = np.vsplit(arr_2d_1, 3)\n",
        "print(\"Vertical Split:\\n\", vsplit_arr)\n",
        "\n",
        "# Horizontal splitting (along columns)\n",
        "hsplit_arr = np.hsplit(arr_2d_1, 3)\n",
        "print(\"Horizontal Split:\\n\", hsplit_arr)\n",
        "\n",
        "# Horizontal splitting (along columns)\n",
        "vsplit_arr1 = np.vsplit(arr, 3)\n",
        "print(\"Horizontal Split:\\n\", vsplit_arr1)"
      ],
      "metadata": {
        "id": "MMr8iXTPYksE"
      },
      "execution_count": null,
      "outputs": []
    },
    {
      "cell_type": "code",
      "source": [
        "# Adding and Removing Elements\n",
        "NumPy offers methods to add and remove elements from arrays, although adding/removing elements is generally more efficient with Python lists. However, these methods are still useful in many cases.\n",
        "\n",
        "Adding Elements: You can use np.append(), np.insert(), and np.delete() for adding and removing elements.\n",
        "\n",
        "Example: Adding Elements\n",
        "\n",
        "\n",
        "arr = np.array([1, 2, 3, 4, 5, 6, 7, 8, 9])\n",
        "\n",
        "# Append values to an array\n",
        "arr_appended = np.append(arr, [10, 11, 12])\n",
        "print(\"Appended Array:\", arr_appended)\n",
        "\n",
        "# Insert value at a specific position\n",
        "arr_inserted = np.insert(arr, 2, [10, 11])\n",
        "print(\"Array after Insertion:\", arr_inserted)"
      ],
      "metadata": {
        "id": "KJTLdYl0aOk6"
      },
      "execution_count": null,
      "outputs": []
    },
    {
      "cell_type": "code",
      "source": [
        "# Removing Elements:\n",
        "The np.delete() method allows you to remove elements from an array, but it returns a new array since NumPy arrays have a fixed size.\n",
        "\n",
        "Example: Removing Elements\n",
        "\n",
        "arr = np.array([1, 2, 3, 4, 5, 6, 7, 8, 9])\n",
        "\n",
        "# Remove an element by index\n",
        "arr_deleted = np.delete(arr, 2)  # Remove element at index 2\n",
        "print(\"Array after Deletion:\", arr_deleted)"
      ],
      "metadata": {
        "id": "NgL_cr5jaOu5"
      },
      "execution_count": null,
      "outputs": []
    },
    {
      "cell_type": "code",
      "source": [
        "# Multidimensional arrays# Example – 2D NumPy Array - Append Row and Column:\n",
        "import numpy as np\n",
        "\n",
        "# Original 2D array\n",
        "arr = np.array([[1, 2], [3, 4]])\n",
        "print(\"Original:\\n\", arr)\n",
        "\n",
        "# Add Elements\n",
        "# 1. Add a row:\n",
        "# Add a new row [5,6] at the end\n",
        "new_arr = np.append(arr, [[5, 6]], axis=0)\n",
        "print(\"After adding row:\\n\", new_arr)\n",
        "\n",
        "# Add a column:\n",
        "# Add a new column [7,8,9] (if 3 rows exist) – update example for shape\n",
        "arr = np.array([[1, 2], [3, 4], [5, 6]])\n",
        "new_arr = np.append(arr, [[7], [8], [9]], axis=1)\n",
        "print(\"After adding column:\\n\", new_arr)"
      ],
      "metadata": {
        "id": "zMincnqbbIBW"
      },
      "execution_count": null,
      "outputs": []
    },
    {
      "cell_type": "code",
      "source": [
        "# Multidimensional arrays # Example – 2D NumPy Array - Delete Row and Column:\n",
        "import numpy as np\n",
        "\n",
        "# Original 2D array\n",
        "arr = np.array([[1, 2], [3, 4]])\n",
        "print(\"Original:\\n\", arr)\n",
        "\n",
        "# 1. Remove a row:\n",
        "# Remove row at index 1\n",
        "new_arr = np.delete(arr, 1, axis=0)\n",
        "print(\"After removing row 1:\\n\", new_arr)\n",
        "\n",
        "# Remove a column:\n",
        "# Remove column at index 0\n",
        "new_arr = np.delete(arr, 0, axis=1)\n",
        "print(\"After removing column 0:\\n\", new_arr)"
      ],
      "metadata": {
        "id": "FxqOBC7qbIH0"
      },
      "execution_count": null,
      "outputs": []
    },
    {
      "cell_type": "code",
      "source": [
        "# Reshaping a 3D NumPy Array:\n",
        "\n",
        "# In NumPy, reshaping a 3D array is done using numpy.reshape(). The 3D array has the shape:\n",
        "\n",
        "# (shape) = (depth, rows, columns)\n",
        "#         = (z, y, x)\n",
        "\n",
        "# Syntax: np.reshape(array, new_shape)\n",
        "# Rule: Total number of elements must remain the same: z × y × x = new_shape[0] × new_shape[1] × new_shape[2]\n",
        "\n",
        "# Example 1: Reshape from 3D → 2D or 1D\n",
        "\n",
        "import numpy as np\n",
        "\n",
        "# Original 3D array: shape (2, 2, 3)\n",
        "arr = np.array([[[1, 2, 3], [4, 5, 6]],\n",
        "                [[7, 8, 9], [10, 11, 12]]])\n",
        "print(\"Original shape:\", arr.shape)\n",
        "\n",
        "# Convert to 2D:\n",
        "arr_2d = arr.reshape(4, 3)\n",
        "print(\"Reshaped to 2D:\\n\", arr_2d)\n",
        "\n",
        "# Convert to 1D:\n",
        "arr_1d = arr.reshape(-1)\n",
        "print(\"Reshaped to 1D:\\n\", arr_1d)\n",
        "\n",
        "# Example 2: Reshape to another 3D shape\n",
        "# Total elements = 2*2*3 = 12\n",
        "# Reshape to shape (3, 2, 2)\n",
        "\n",
        "arr_new = arr.reshape(3, 2, 2)\n",
        "print(\"Reshaped to (3,2,2):\\n\", arr_new)\n",
        "\n",
        "# Using -1 (Auto-calculate Dimension)\n",
        "# Let NumPy calculate one dimension automatically\n",
        "arr_auto = arr.reshape(2, -1, 2)  # 2 blocks, auto rows, 2 columns\n",
        "print(\"Auto reshape:\\n\", arr_auto)\n",
        "\n",
        "# Error if shape mismatch:\n",
        "# This will raise an error – 12 elements cannot reshape to 2×2×4 = 16\n",
        "arr_wrong = arr.reshape(2, 2, 4)"
      ],
      "metadata": {
        "id": "XSRGZp5Wdvlj"
      },
      "execution_count": null,
      "outputs": []
    },
    {
      "cell_type": "code",
      "source": [],
      "metadata": {
        "id": "S9V_GPLsFfGW"
      },
      "execution_count": null,
      "outputs": []
    },
    {
      "cell_type": "code",
      "source": [
        "# Pandas Series: Day-3: Deep Dive - Introduction to pandas\n",
        "▪  Series - an one-dimensional labeled arrays.\n",
        "▪  Creating Series from lists, arrays, and dictionaries.\n",
        "▪  Explore Series attributes and methods for data manipulation.\n",
        "A Pandas Series is a one-dimensional labeled array that can hold any data type (e.g., integers, strings, floats, etc.). It is similar to a list or a column in a DataFrame, but with added functionality like labeling of elements via an index.\n",
        "\n",
        "# Key Points:\n",
        "One-dimensional: A Series is a 1D structure, like a list or an array.\n",
        "Labeled: Each element in the Series has a label (index), which can be customized.\n",
        "Homogeneous: The data in a Series are typically of the same type (though it can hold different types)."
      ],
      "metadata": {
        "id": "PWBSSh7bFfMP"
      },
      "execution_count": null,
      "outputs": []
    },
    {
      "cell_type": "code",
      "source": [
        "# From a list:\n",
        "import pandas as pd\n",
        "\n",
        "data = [10, 20, 30, 40, 50]\n",
        "series = pd.Series(data)\n",
        "print(series)"
      ],
      "metadata": {
        "id": "NjKAukfVFfZV"
      },
      "execution_count": null,
      "outputs": []
    },
    {
      "cell_type": "code",
      "source": [
        "#2. From a NumPy array:\n",
        "\n",
        "import numpy as np\n",
        "import pandas as pd\n",
        "\n",
        "np_array = np.array([5.5, 10.5, 15.5, 20.5])\n",
        "series = pd.Series(np_array)\n",
        "print(series)"
      ],
      "metadata": {
        "id": "nQggL92sFpMZ"
      },
      "execution_count": null,
      "outputs": []
    },
    {
      "cell_type": "code",
      "source": [
        "# . From a dictionary (keys become the index, values become the data):\n",
        "\n",
        "data_dict = {'a': 1, 'b': 2, 'c': 3}\n",
        "series = pd.Series(data_dict)\n",
        "print(series)"
      ],
      "metadata": {
        "id": "lymOZTbsFpT4"
      },
      "execution_count": null,
      "outputs": []
    },
    {
      "cell_type": "code",
      "source": [
        "# Attributes of a Series:\n",
        "\n",
        "    index: Returns the index (labels) of the Series.\n",
        "    values: Returns the data of the Series as a NumPy array.\n",
        "    dtype: Returns the data type of the elements in the Series."
      ],
      "metadata": {
        "id": "c3aHV2MtFpa8"
      },
      "execution_count": null,
      "outputs": []
    },
    {
      "cell_type": "code",
      "source": [
        "# Common Methods of Series:\n",
        "\n",
        "head(): Returns the first n elements.\n",
        "tail(): Returns the last n elements.\n",
        "describe(): Generates descriptive statistics of the Series.\n",
        "sum(): Returns the sum of the elements.\n",
        "mean(): Returns the mean of the elements.\n",
        "map(): Apply a function to each element."
      ],
      "metadata": {
        "id": "Sha_0dbxFphB"
      },
      "execution_count": null,
      "outputs": []
    },
    {
      "cell_type": "code",
      "source": [
        "series = pd.Series([10, 20, 30, 40, 50])\n",
        "\n",
        "print(series.head(3))     # First 3 elements\n",
        "print(series.tail(2))     # Last 2 elements\n",
        "print(series.describe())  # Descriptive stats\n",
        "print(series.sum())       # Sum of elements\n",
        "print(series.mean())      # Mean of elements"
      ],
      "metadata": {
        "id": "Kb2P-QDCFpnF"
      },
      "execution_count": null,
      "outputs": []
    },
    {
      "cell_type": "code",
      "source": [
        "Indexing and Slicing:\n",
        "You can access elements by their index:\n",
        "\n",
        "series = pd.Series([10, 20, 30, 40, 50], index=['a', 'b', 'c', 'd', 'e'])\n",
        "print(series['c'])\n",
        "# Output: 30"
      ],
      "metadata": {
        "id": "sOvHMu-nFpt7"
      },
      "execution_count": null,
      "outputs": []
    },
    {
      "cell_type": "code",
      "source": [
        "# Example of Series Creation and Basic Operations:\n",
        "\n",
        "import pandas as pd\n",
        "\n",
        "# Creating a Series from a list\n",
        "data = [100, 200, 300, 400, 500]\n",
        "index = ['a', 'b', 'c', 'd', 'e']\n",
        "series = pd.Series(data, index=index)\n",
        "\n",
        "print(\"Series:\")\n",
        "print(series)\n",
        "\n",
        "# Basic operations\n",
        "print(\"\\nSum of elements:\", series.sum())\n",
        "print(\"Mean of elements:\", series.mean())\n",
        "print(\"First 3 elements:\")\n",
        "print(series.head(3))"
      ],
      "metadata": {
        "id": "QOFutDJaF5wA"
      },
      "execution_count": null,
      "outputs": []
    },
    {
      "cell_type": "code",
      "source": [
        "# Conclusion:\n",
        "\n",
        "    Pandas Series is a powerful and flexible structure for handling one-dimensional data,\n",
        "    with an intuitive interface for data manipulation, indexing, and statistical operations."
      ],
      "metadata": {
        "id": "rtY1-Z4IF54V"
      },
      "execution_count": null,
      "outputs": []
    },
    {
      "cell_type": "code",
      "source": [],
      "metadata": {
        "id": "Z830P1SrF5-h"
      },
      "execution_count": null,
      "outputs": []
    },
    {
      "cell_type": "code",
      "source": [
        "# Pandas DataFrame:\n",
        "\n",
        "    o  Pandas DataFrames a two-dimensional labeled data structures.\n",
        "    o  Creating DataFrames from dictionaries, lists, and external files.\n",
        "    o  Explore DataFrame attributes, indexing, and basic operations.\n",
        "    o  Read/write operations with CSV and excel file\n",
        "\n",
        "A Pandas DataFrame is a two-dimensional labeled data structure with columns that can be of different data types.\n",
        "It is one of the most commonly used structures in Pandas and is very similar to a table in a database, an Excel spreadsheet, or a data frame in R.\n",
        "\n",
        "# Key Points:\n",
        "\n",
        "    Two-dimensional: A DataFrame is essentially a table with rows and columns.\n",
        "    Labeled axes: Rows and columns are both labeled (via index for rows and column names for columns).\n",
        "    Heterogeneous data: Each column can hold data of different types (e.g., integers, strings, floats, etc.)."
      ],
      "metadata": {
        "id": "_q9WDX37F6FV"
      },
      "execution_count": null,
      "outputs": []
    },
    {
      "cell_type": "code",
      "source": [
        "# Common Ways to Create a DataFrame:\n",
        "\n",
        "# 1. From a Dictionary of Lists or Arrays\n",
        "\n",
        "Each key-value pair in the dictionary becomes a column in the DataFrame,\n",
        "where the key is the column name and the value is the data in that column.\n",
        "\n",
        "import pandas as pd\n",
        "data = {\n",
        "    'Name': ['DK', 'BK', 'CK', 'AK'],\n",
        "    'Age': [25, 30, 35, 40],\n",
        "    'City': ['New York', 'Los Angeles', 'Chicago', 'Houston']}\n",
        "\n",
        "df = pd.DataFrame(data)\n",
        "print(df)"
      ],
      "metadata": {
        "id": "mcZKZbIYF6Lo"
      },
      "execution_count": null,
      "outputs": []
    },
    {
      "cell_type": "code",
      "source": [
        "# 2. From a List of Lists (or Nested Lists)\n",
        "Each sublist is treated as a row in the DataFrame, and you can specify column names.\n",
        "\n",
        "data = [\n",
        "    ['AK', 25, 'New York'],\n",
        "    ['BK', 30, 'Los Angeles'],\n",
        "    ['CK', 35, 'Chicago'],\n",
        "    ['DK', 40, 'Houston']\n",
        "]\n",
        "df = pd.DataFrame(data, columns=['Name', 'Age', 'City'])\n",
        "print(df)"
      ],
      "metadata": {
        "id": "pImnsnFqF6S_"
      },
      "execution_count": null,
      "outputs": []
    },
    {
      "cell_type": "code",
      "source": [
        "# 3. From External Files (CSV, Excel, etc.)\n",
        "You can read data into a DataFrame from external data sources such as CSV files or Excel files.\n",
        "\n",
        "# Reading from a CSV file:\n",
        "import pandas as pd\n",
        "\n",
        "# Reading a CSV file into a DataFrame\n",
        "df = pd.read_csv(r'C:\\Users\\dines\\Python_DF_Files\\Emp_Data.csv')\n",
        "print(df)\n",
        "\n",
        "# Reading from an Excel file:\n",
        "# Reading an Excel file into a DataFrame\n",
        "df = pd.read_excel(r'C:\\Users\\dines\\Python_DF_Files\\Emp_Data.xlsx', sheet_name='Emp_Data')\n",
        "print(df)"
      ],
      "metadata": {
        "id": "_becXMX0GLVQ"
      },
      "execution_count": null,
      "outputs": []
    },
    {
      "cell_type": "code",
      "source": [
        "# From a NumPy Array (with Column Labels)\n",
        "You can also create a DataFrame from a NumPy array, specifying column names.\n",
        "\n",
        "import numpy as np\n",
        "\n",
        "data = np.array([[1, 'AK', 25], [2, 'DK', 30], [3, 'CK', 35]])\n",
        "df = pd.DataFrame(data, columns=['ID', 'Name', 'Age'])\n",
        "print(df)\n"
      ],
      "metadata": {
        "id": "kLjX5r5OGLcI"
      },
      "execution_count": null,
      "outputs": []
    },
    {
      "cell_type": "code",
      "source": [
        "# DataFrame Attributes:\n",
        "  df.shape: Returns a tuple representing the dimensionality (number of rows, number of columns).\n",
        "  df.columns: Returns the column labels.\n",
        "  df.index: Returns the row labels (index).\n",
        "  df.dtypes: Returns the data types of each column.\n",
        "  df.values: Returns the data in the DataFrame as a NumPy array."
      ],
      "metadata": {
        "id": "fLkQI-3AGLiF"
      },
      "execution_count": null,
      "outputs": []
    },
    {
      "cell_type": "code",
      "source": [
        "print(df.shape)       # Output: (4, 3)\n",
        "print(df.columns)     # Output: Index(['Name', 'Age', 'City'], dtype='object')\n",
        "print(df.index)       # Output: RangeIndex(start=0, stop=4, step=1)\n",
        "print(df.dtypes)      # Output: Name     object\n",
        "                      #          Age      int64\n",
        "                      #          City     object\n",
        "                      #          dtype: object\n"
      ],
      "metadata": {
        "id": "RxDuseHfGLou"
      },
      "execution_count": null,
      "outputs": []
    },
    {
      "cell_type": "code",
      "source": [
        "#Basic Operations on DataFrame\n",
        "# Accessing Columns: You can access a column in a DataFrame by using its name\n",
        "\n",
        "# .loc[] — Label-based Selection\n",
        "# Use .loc[] when you're selecting rows/columns by names (labels).\n",
        "# Example:\n",
        "\n",
        "import pandas as pd\n",
        "\n",
        "df = pd.DataFrame({\n",
        "    'Name': ['AK', 'BK', 'CK'],\n",
        "    'Age': [25, 30, 35]\n",
        "}, index=['a', 'b', 'c'])\n",
        "\n",
        "# Get row with index label 'b'\n",
        "print(df.loc['b'])\n",
        "\n",
        "# Get rows 'a' through 'b' (inclusive)\n",
        "print(df.loc['a':'b'])\n",
        "\n",
        "# Get Name column of rows 'a' and 'c'\n",
        "print(df.loc[['a', 'c'], 'Name'])\n",
        "\n",
        "\n",
        "\n",
        "\n",
        "# .iloc[] — Integer Position-based Selection\n",
        "# Use .iloc[] when you're selecting rows/columns by numeric positions (like lists).\n",
        "# Example:\n",
        "\n",
        "# Get the 2nd row (index 1)\n",
        "print(df.iloc[1])\n",
        "\n",
        "# Get the first two rows\n",
        "print(df.iloc[0:2])  # end excluded\n",
        "\n",
        "# Get value at 0th row and 1st column\n",
        "print(\" Value for 0th Row 1st col:\", df.iloc[0, 1])\n",
        "print(\" Value for 1st Row 1st col:\", df.iloc[1, 1])\n",
        "print(\" Value for 2nd Row 1st col:\", df.iloc[2, 1])\n",
        "\n"
      ],
      "metadata": {
        "id": "7iv2a6vQGLw2"
      },
      "execution_count": null,
      "outputs": []
    },
    {
      "cell_type": "code",
      "source": [
        "# Filtering: You can filter rows based on conditions.\n",
        "\n",
        "import numpy as np\n",
        "import pandas as pd\n",
        "\n",
        "# Define the data\n",
        "data = np.array([[1, 'AK', '25'], [2, 'BK', '30'], [3, 'CK', '35']])\n",
        "\n",
        "# Create the DataFrame\n",
        "df = pd.DataFrame(data, columns=['ID', 'Name', 'Age'])\n",
        "\n",
        "# # Convert the 'Age' column to integers\n",
        "df['Age'] = df['Age'].astype(int)\n",
        "\n",
        "# Print the original DataFrame\n",
        "print(df)\n",
        "\n",
        "# Filtering rows where Age > 30\n",
        "filtered_df = df[df['Age'] > 30]\n",
        "print(\"\\nFiltered DataFrame (Age > 30):\")\n",
        "print(filtered_df) # This will work now  -- This filters the DataFrame to include only the rows where the condition is True."
      ],
      "metadata": {
        "id": "-69AiWb7GL4Y"
      },
      "execution_count": null,
      "outputs": []
    },
    {
      "cell_type": "code",
      "source": [
        "Basic Aggregation: You can perform operations like sum(), mean(), min(), max() on columns.\n",
        "\n",
        "print(df['Age'].mean())  # Mean of the Age column\n",
        "print(df['Age'].sum())   # Sum of the Age column"
      ],
      "metadata": {
        "id": "Fdd2aCW0GMAw"
      },
      "execution_count": null,
      "outputs": []
    },
    {
      "cell_type": "code",
      "source": [
        "# Dropping Columns: To remove a column from a DataFrame, you can use drop().\n",
        "\n",
        "df = df.drop(columns=['Age'])\n",
        "print(df)"
      ],
      "metadata": {
        "id": "Hyl2KfguGMJC"
      },
      "execution_count": null,
      "outputs": []
    },
    {
      "cell_type": "code",
      "source": [
        "# Reading and Writing DataFrames to External Files:\n",
        "\n",
        "df.to_csv('output.csv', index=False)  # index=False prevents writing the index to the file\n",
        "df.to_excel('output.xlsx', index=False)\n",
        "\n",
        "# Example Code: Working with DataFrames\n",
        "\n",
        "import pandas as pd\n",
        "\n",
        "# Create a DataFrame from a dictionary\n",
        "data = {\n",
        "    'Name': ['AK', 'BK', 'CK', 'DK'],\n",
        "    'Age': [25, 30, 35, 40],\n",
        "    'City': ['New York', 'Los Angeles', 'Chicago', 'Houston']}\n",
        "\n",
        "df = pd.DataFrame(data)\n",
        "\n",
        "# Display the DataFrame\n",
        "print(\"Original DataFrame:\")\n",
        "print(df)\n",
        "\n",
        "# Accessing specific columns\n",
        "print(\"\\nAge Column:\")\n",
        "print(df['Age'])\n",
        "\n",
        "# Filtering rows where Age > 30\n",
        "filtered_df = df[df['Age'] > 30]\n",
        "print(\"\\nFiltered DataFrame (Age > 30):\")\n",
        "print(filtered_df)\n",
        "\n",
        "# Adding a new column for Salary\n",
        "df['Salary'] = [50000, 60000, 70000, 80000]\n",
        "print(\"\\nDataFrame with Salary Column:\")\n",
        "print(df)\n",
        "\n",
        "# Writing DataFrame to CSV\n",
        "df.to_csv(r'C:\\Users\\dines\\Python_DF_Files\\LTIMB7\\output_dk1.csv', index=False)\n",
        "# df.to_csv(r'D:\\07_LTIM_Batches_ 2023-24\\output_dk1.csv', index=False)"
      ],
      "metadata": {
        "id": "U7LR03OnGpOk"
      },
      "execution_count": null,
      "outputs": []
    },
    {
      "cell_type": "code",
      "source": [],
      "metadata": {
        "id": "7udcuC-qGpZb"
      },
      "execution_count": null,
      "outputs": []
    }
  ]
}